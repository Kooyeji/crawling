{
  "nbformat": 4,
  "nbformat_minor": 0,
  "metadata": {
    "colab": {
      "name": "알고리즘&자료구조.ipynb",
      "provenance": [],
      "authorship_tag": "ABX9TyPbdeRk2hwc21dJCg6qAc2n",
      "include_colab_link": true
    },
    "kernelspec": {
      "name": "python3",
      "display_name": "Python 3"
    },
    "language_info": {
      "name": "python"
    }
  },
  "cells": [
    {
      "cell_type": "markdown",
      "metadata": {
        "id": "view-in-github",
        "colab_type": "text"
      },
      "source": [
        "<a href=\"https://colab.research.google.com/github/Kooyeji/crawling/blob/main/%EC%95%8C%EA%B3%A0%EB%A6%AC%EC%A6%98%26%EC%9E%90%EB%A3%8C%EA%B5%AC%EC%A1%B0.ipynb\" target=\"_parent\"><img src=\"https://colab.research.google.com/assets/colab-badge.svg\" alt=\"Open In Colab\"/></a>"
      ]
    },
    {
      "cell_type": "code",
      "execution_count": 1,
      "metadata": {
        "id": "ilVSmZ_uF679"
      },
      "outputs": [],
      "source": [
        "#알고리즘?\n",
        "# 문제를 해결하기 위한 처리 절차를 구체적인 순서에 따라 표현한 아이디어나 생략\n",
        "#알고리즘 자체는 일상생활에서도 많이 사용되고 있다.\n",
        "#요리의 레시피, 음악의 악보, 가전제품 사용설명서\n",
        "\n",
        "\n",
        "#알고리즘을 프로그램 언어로(파이썬, 자바, 씨)기술하면 프로그램이다.\n",
        "#알고리즘을 작성하는 방법에는 프로그래밍 언어, 수도코드, 흐름도 등이 있다.\n",
        "\n"
      ]
    },
    {
      "cell_type": "code",
      "source": [
        "#1부터 n까지의 정수의 합을 구하는 알고리즘\n",
        "#1부터 10까지의 정수\n",
        "#1+2의 결과 3을 기억\n",
        "#기억해둔 3에 다음 숫자인 3을 더한 6기억\n",
        "#기억해둔 6에 다음 숫자인 4를 더한 10기억\n",
        "#\n",
        "#\n",
        "#\n",
        "#....다음 숫자인 10을 더한 55기억\n",
        "#마지막 저장한 숫자를 출력 #문제를 해결하기 위한 절차\n",
        "\n",
        "s=0 #sum 값을 누적시킬 변수\n",
        "n=10 #더할 마지막 수 \n",
        "for i in range(1,n+1):\n",
        "  s+=i\n",
        "print(s)"
      ],
      "metadata": {
        "colab": {
          "base_uri": "https://localhost:8080/"
        },
        "id": "nQbCxs31Id03",
        "outputId": "03eec720-5d81-4b59-ec6a-f800fe39824a"
      },
      "execution_count": 6,
      "outputs": [
        {
          "output_type": "stream",
          "name": "stdout",
          "text": [
            "5050\n"
          ]
        }
      ]
    },
    {
      "cell_type": "code",
      "source": [
        "def sum_m(m):\n",
        "  return m*(m+1)//2\n",
        "  \n",
        "print(sum_m(10))\n",
        "#문제를 푸는 알고리즘이 하나만 있는 것은 아니다"
      ],
      "metadata": {
        "colab": {
          "base_uri": "https://localhost:8080/"
        },
        "id": "p5hG5tH1JOwf",
        "outputId": "871c7b83-d2b7-4cc7-ae0e-211c8bae0975"
      },
      "execution_count": 8,
      "outputs": [
        {
          "output_type": "stream",
          "name": "stdout",
          "text": [
            "55\n"
          ]
        }
      ]
    },
    {
      "cell_type": "code",
      "source": [
        "#최대값 찾기\n",
        "#전체 리스트의 개수를 구한다\n",
        "#일단, 첫번쨰(0번쨰,4)값을 최대값이라고 가정한다\n",
        "#두번째 값부터 첫번째값과 비교하여 둘 중 큰값을 다시 최대값으로 설정한다, \n",
        "def find_max(a):\n",
        "  m=0\n",
        "  for i in range(len(a)):\n",
        "    if a[i]>m:\n",
        "      m=a[i]\n",
        "  return m\n",
        "print(find_max([4,6,8,1,3,9]))"
      ],
      "metadata": {
        "colab": {
          "base_uri": "https://localhost:8080/"
        },
        "id": "VUkYpUpoKYH6",
        "outputId": "0b3c7d9b-7704-46ec-b45f-247d256ceeff"
      },
      "execution_count": 12,
      "outputs": [
        {
          "output_type": "stream",
          "name": "stdout",
          "text": [
            "9\n"
          ]
        }
      ]
    },
    {
      "cell_type": "code",
      "source": [
        "def find_max(a):\n",
        "  n=len(a)\n",
        "  mx=a[0]\n",
        "  for i in range(1,n):\n",
        "    if a[i]>mx:\n",
        "      mx=a[i]\n",
        "      print(mx)\n",
        "  return mx\n",
        "print(find_max([4,6,8,1,3,9]))\n"
      ],
      "metadata": {
        "colab": {
          "base_uri": "https://localhost:8080/"
        },
        "id": "fq-6gGo3Kygq",
        "outputId": "197a2124-7ff5-41ce-b72b-ab453fd1fd52"
      },
      "execution_count": 13,
      "outputs": [
        {
          "output_type": "stream",
          "name": "stdout",
          "text": [
            "6\n",
            "8\n",
            "9\n",
            "9\n"
          ]
        }
      ]
    },
    {
      "cell_type": "code",
      "source": [
        "#자료구조\n",
        "#알고리즘과 자료구조는 바늘과 실의 관계\n",
        "#자료구조 stack,queue\n",
        "#데이터를 담아두고 꺼내는 방법 두가지:stack/queue\n",
        "#stack 스택= LIFO(Last in First Out), 데이터가 입력되면 순서대로 쌓고\n",
        "#            나중에 들어온 것 부터 먼저나간다.\n",
        "#이미지를 구글에서 찾아보면 이해가 쉬움\n",
        "#stack 알고리즘 구현에는 웹사이트 기록도 해당\n",
        "def stack():\n",
        "  stacklist = []\n",
        "  stacklist.append(1)\n",
        "  stacklist.append(2)\n",
        "  stacklist.append(3)\n",
        "  stacklist.append(4)\n",
        "  stacklist.append(5)\n",
        "  while stacklist: #stacklist에 뭐가 잇기만 하면 true가 됨. \n",
        "    print('pop value is ',stacklist.pop()) #pop은 끝에서부터 하나씩 꺼낸다\n",
        "    #pop(0)은 맨처음껄 뽑아냄 pop():맨 마지막껄 뽑아냄\n",
        "stack()\n"
      ],
      "metadata": {
        "colab": {
          "base_uri": "https://localhost:8080/"
        },
        "id": "JI7u2b7WNW09",
        "outputId": "0c8d6a37-2715-4fc4-8bdc-d452af2ae276"
      },
      "execution_count": 18,
      "outputs": [
        {
          "output_type": "stream",
          "name": "stdout",
          "text": [
            "pop value is  5\n",
            "pop value is  4\n",
            "pop value is  3\n",
            "pop value is  2\n",
            "pop value is  1\n"
          ]
        }
      ]
    },
    {
      "cell_type": "code",
      "source": [
        "#stack 활용 \n",
        "list=[]\n",
        "while True:\n",
        "  site = input('방문할 사이트 주소를 입력(이전 사이트는 back)')\n",
        "  if site != 'back':\n",
        "    list.append(site)\n",
        "  else:\n",
        "    list.pop()\n",
        "  if len(list) != 0:\n",
        "    print('현재 방문 중인 사이트는',list[-1],'입니다') #list[-1]은 마지막 꺼\n",
        "  else:\n",
        "    print('방문중인 사이트가 현재 없습니다.')"
      ],
      "metadata": {
        "id": "7GjcfgvCPCat"
      },
      "execution_count": null,
      "outputs": []
    },
    {
      "cell_type": "code",
      "source": [
        "#큐 queue FIFO First in First out 데이터가 입력되면 그 순서대로 쌓고 \n",
        "#들어온 것부터 먼저 나가는 자료구조\n",
        "\n",
        "def queue():\n",
        "  qlist = []\n",
        "  qlist.append(1)\n",
        "  qlist.append(2)\n",
        "  qlist.append(3)\n",
        "  qlist.append(4)\n",
        "  qlist.append(5)\n",
        "  while qlist:\n",
        "    print('Get Value:',qlist.pop(0))\n",
        "queue()\n",
        "\n"
      ],
      "metadata": {
        "colab": {
          "base_uri": "https://localhost:8080/"
        },
        "id": "otfEs6PAW7xo",
        "outputId": "1d3c108f-d50c-47e5-a2f9-b68043a0bf60"
      },
      "execution_count": 21,
      "outputs": [
        {
          "output_type": "stream",
          "name": "stdout",
          "text": [
            "Get Value: 1\n",
            "Get Value: 2\n",
            "Get Value: 3\n",
            "Get Value: 4\n",
            "Get Value: 5\n"
          ]
        }
      ]
    },
    {
      "cell_type": "markdown",
      "source": [
        "\n",
        "\n",
        "---\n",
        "\n"
      ],
      "metadata": {
        "id": "u-utBPb4ZE-d"
      }
    },
    {
      "cell_type": "code",
      "source": [
        "#queue 활용 예시\n",
        "list=[]\n",
        "while True:\n",
        "  fname=input('출력할 파일을 입력하세요(0을 누르면 출력 시작)')\n",
        "  if fname !='0': #문자형으로 안하면 인식을 못함 자주 등장하는 버그니 기억\n",
        "    list.append(fname)\n",
        "  else:\n",
        "    print('출력을 시작합니다')\n",
        "    no=1\n",
        "    while list:\n",
        "      print(no,'번째 파일을 출력합니다.',list.pop(0))\n",
        "      no += 1\n",
        "    print('모든 파일 출력을 완료하였습니다.')\n",
        "    break"
      ],
      "metadata": {
        "colab": {
          "base_uri": "https://localhost:8080/"
        },
        "id": "XM7OH9fSYrGB",
        "outputId": "409ad051-204f-44f1-de1f-1c486db219bb"
      },
      "execution_count": 27,
      "outputs": [
        {
          "output_type": "stream",
          "name": "stdout",
          "text": [
            "출력할 파일을 입력하세요(0을 누르면 출력 시작)doc1.hwp\n",
            "출력할 파일을 입력하세요(0을 누르면 출력 시작)doc2.hwp\n",
            "출력할 파일을 입력하세요(0을 누르면 출력 시작)doc3.hwp\n",
            "출력할 파일을 입력하세요(0을 누르면 출력 시작)0\n",
            "출력을 시작합니다\n",
            "1 번째 파일을 출력합니다. doc1.hwp\n",
            "2 번째 파일을 출력합니다. doc2.hwp\n",
            "3 번째 파일을 출력합니다. doc3.hwp\n",
            "모든 파일 출력을 완료하였습니다.\n"
          ]
        }
      ]
    },
    {
      "cell_type": "code",
      "source": [
        "#실전예제 2개는 외우는게 좋음\n",
        "#palindrome 왼쪽부터 읽어도 오른쪽부터 읽어도 동일한 프로그램\n",
        "#stack과 큐로 만들 수 있다.\n",
        "#문자열이 palindrome인지 확인\n",
        "#palindrome\n",
        "def palin(s):\n",
        "  qu=[]\n",
        "  st=[]\n",
        "  for x in s:\n",
        "    qu.append(x)\n",
        "    st.append(x)\n",
        "  while qu:\n",
        "    q_list=[]\n",
        "    q_list.append(qu.pop())\n",
        "  while st:\n",
        "    st_list=[]\n",
        "    st_list.append(st.pop(0))\n",
        "  if q_list==st_list:\n",
        "    print('True')\n",
        "  else:\n",
        "    print('False')\n",
        "  return ''\n",
        "\n",
        "\n",
        "\n",
        "print(palin('wow')) #True\n",
        "print(palin('tek'))\n",
        "print(palin('sdds'))"
      ],
      "metadata": {
        "colab": {
          "base_uri": "https://localhost:8080/"
        },
        "id": "vM1yxaKDZkN6",
        "outputId": "5b6999d5-61c8-4e1a-a17c-196a79bbd107"
      },
      "execution_count": 32,
      "outputs": [
        {
          "output_type": "stream",
          "name": "stdout",
          "text": [
            "True\n",
            "\n",
            "False\n",
            "\n",
            "True\n",
            "\n"
          ]
        }
      ]
    },
    {
      "cell_type": "code",
      "source": [
        "def palin(s):\n",
        "  qu=[]\n",
        "  st=[]\n",
        "  for x in s:\n",
        "    if x.isalpha():\n",
        "      qu.append(x.lower())\n",
        "      st.append(x.lower())\n",
        "\n",
        "  while qu:\n",
        "    if qu.pop(0) != st.pop():\n",
        "      return False\n",
        "  return True\n",
        "\n",
        "print(palin('wow'))"
      ],
      "metadata": {
        "colab": {
          "base_uri": "https://localhost:8080/"
        },
        "id": "J7pWtt9fdX-t",
        "outputId": "f30e003e-dc77-4d96-b5a5-3e8a4fe1e6c1"
      },
      "execution_count": 33,
      "outputs": [
        {
          "output_type": "stream",
          "name": "stdout",
          "text": [
            "True\n"
          ]
        }
      ]
    },
    {
      "cell_type": "code",
      "source": [
        "#괄호 확인\n",
        "#(2+3) * 4->YES (2+3)*4) ->NO로 출력 틀린 문법 \n",
        "#괄호의 짝이 맞는지 확인하는 문법\n",
        "\n",
        "def check(a):\n",
        "  stack=[]\n",
        "  for k in a:\n",
        "    if k == '(':\n",
        "      stack.append(k)\n",
        "    elif k==')':\n",
        "      stack.append(k)\n",
        "  if len(stack)%2==0:\n",
        "    print('YES')\n",
        "  else:\n",
        "    print(\"NO\")\n",
        "\n",
        "a=input('확인을 원하는 수식을 입력하세요')\n",
        "check(a)\n",
        "#근데 이렇게 쓴 식은 )2+3)*4와 같은 엉망ㅇ인 수식도 갯수로만 판별하니 틀릴 수 있다."
      ],
      "metadata": {
        "colab": {
          "base_uri": "https://localhost:8080/"
        },
        "id": "k6P-nP4WhW0y",
        "outputId": "26e0068c-65b7-4e60-ea7a-d15417d3a4cb"
      },
      "execution_count": 37,
      "outputs": [
        {
          "output_type": "stream",
          "name": "stdout",
          "text": [
            "확인을 원하는 수식을 입력하세요)2+3)*4\n",
            "YES\n"
          ]
        }
      ]
    },
    {
      "cell_type": "code",
      "source": [
        "def check(a):\n",
        "  stack=[]\n",
        "  for k in a:\n",
        "    if k == '(':\n",
        "      stack.append(k) #여는게 나오면 stack에 집어놓고 \n",
        "    elif k==')':\n",
        "      if len(stack)==0: #닫는게 나왔는데 여는게 없으면 NO\n",
        "        print('NO')\n",
        "        return #return으로 나가버림 함수에서 나가는것. break은 while문에서\n",
        "      else:\n",
        "        stack.pop() #닫는게 있었고 여는게 있었다->삭제. \n",
        "  if len(stack) == 0: #stack에는 이제 아무것도 없어야 정상.\n",
        "    print('YES')\n",
        "    return \n",
        "  else:\n",
        "    print('NO')\n",
        "a=input('확인을 원하는 수식을 입력하세요')\n",
        "check(a)"
      ],
      "metadata": {
        "colab": {
          "base_uri": "https://localhost:8080/"
        },
        "id": "hqj_-KZMiohG",
        "outputId": "bdaee479-4d73-4fcf-9231-7be6cc4d9851"
      },
      "execution_count": 38,
      "outputs": [
        {
          "output_type": "stream",
          "name": "stdout",
          "text": [
            "확인을 원하는 수식을 입력하세요'()()))))\n",
            "NO\n"
          ]
        }
      ]
    },
    {
      "cell_type": "code",
      "source": [
        ""
      ],
      "metadata": {
        "id": "ehMPdyWVmRpD"
      },
      "execution_count": 38,
      "outputs": []
    }
  ]
}